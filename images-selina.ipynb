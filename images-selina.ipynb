{
 "cells": [
  {
   "cell_type": "code",
   "execution_count": 217,
   "metadata": {},
   "outputs": [],
   "source": [
    "import numpy as np\n",
    "import matplotlib.pyplot as plt\n",
    "import skimage\n",
    "from skimage import io, filters, transform\n",
    "import os\n",
    "import json\n",
    "from sklearn.neighbors import KNeighborsClassifier\n",
    "from sklearn.linear_model import LogisticRegression\n",
    "from sklearn.multiclass import OneVsRestClassifier"
   ]
  },
  {
   "cell_type": "markdown",
   "metadata": {},
   "source": [
    "# Training data"
   ]
  },
  {
   "cell_type": "code",
   "execution_count": 218,
   "metadata": {},
   "outputs": [],
   "source": [
    "#go to folder with 500 images\n",
    "os.chdir('train500')\n",
    "X_train = np.array([io.imread(str(i)+'.jpg') for i in range(1,501)])\n",
    "os.chdir('..')"
   ]
  },
  {
   "cell_type": "code",
   "execution_count": 85,
   "metadata": {},
   "outputs": [],
   "source": [
    "train_json = json.load(open('train.json'))"
   ]
  },
  {
   "cell_type": "code",
   "execution_count": 225,
   "metadata": {},
   "outputs": [],
   "source": [
    "y_train = []\n",
    "for i in range(1,501):\n",
    "    labels = train_json['annotations'][i]['labelId']\n",
    "    labels = np.array(list(map(int,labels)))\n",
    "    y_train.append(labels)\n",
    "y_train = np.array(y_train)"
   ]
  },
  {
   "cell_type": "code",
   "execution_count": 227,
   "metadata": {},
   "outputs": [],
   "source": [
    "#pad labels with zeros\n",
    "y_train_pad = []\n",
    "\n",
    "for i in y_train:\n",
    "    num_zeros = 16 - len(i)\n",
    "    zeros = [0] * num_zeros\n",
    "    zeros = np.array(zeros)\n",
    "    new = np.append(i,zeros)\n",
    "    y_train_pad.append(new)\n",
    "y_train_pad = np.array(y_train_pad)"
   ]
  },
  {
   "cell_type": "markdown",
   "metadata": {},
   "source": [
    "Resize images to fit (200,128,3) and flatten the resized images"
   ]
  },
  {
   "cell_type": "code",
   "execution_count": 228,
   "metadata": {},
   "outputs": [
    {
     "name": "stdout",
     "output_type": "stream",
     "text": [
      "smallest vertical: 200\n",
      "smallest horizontal: 128\n"
     ]
    }
   ],
   "source": [
    "print('smallest vertical:',min(i.shape[0] for i in X_train))\n",
    "print('smallest horizontal:',min(i.shape[1] for i in X_train))"
   ]
  },
  {
   "cell_type": "code",
   "execution_count": 229,
   "metadata": {},
   "outputs": [
    {
     "name": "stderr",
     "output_type": "stream",
     "text": [
      "/usr/local/Cellar/python3/3.6.3/Frameworks/Python.framework/Versions/3.6/lib/python3.6/site-packages/skimage/transform/_warps.py:84: UserWarning: The default mode, 'constant', will be changed to 'reflect' in skimage 0.15.\n",
      "  warn(\"The default mode, 'constant', will be changed to 'reflect' in \"\n"
     ]
    }
   ],
   "source": [
    "#All images resized to the smallest dimensions\n",
    "X_train_resized = [transform.resize(img,(200,128,3)) for img in X_train]\n",
    "X_train_flat = np.array([img.flatten() for img in X_train_resized])"
   ]
  },
  {
   "cell_type": "markdown",
   "metadata": {},
   "source": [
    "# Validation data"
   ]
  },
  {
   "cell_type": "code",
   "execution_count": 230,
   "metadata": {},
   "outputs": [],
   "source": [
    "os.chdir('val500')\n",
    "X_test = np.array([io.imread(str(i)+'.jpg') for i in range(1,501)])\n",
    "os.chdir('..')"
   ]
  },
  {
   "cell_type": "code",
   "execution_count": 231,
   "metadata": {},
   "outputs": [
    {
     "name": "stderr",
     "output_type": "stream",
     "text": [
      "/usr/local/Cellar/python3/3.6.3/Frameworks/Python.framework/Versions/3.6/lib/python3.6/site-packages/skimage/transform/_warps.py:84: UserWarning: The default mode, 'constant', will be changed to 'reflect' in skimage 0.15.\n",
      "  warn(\"The default mode, 'constant', will be changed to 'reflect' in \"\n"
     ]
    }
   ],
   "source": [
    "X_test_resized = [transform.resize(img,(200,128,3)) for img in X_test]\n",
    "X_test_flat = np.array([img.flatten() for img in X_test_resized])"
   ]
  },
  {
   "cell_type": "code",
   "execution_count": 232,
   "metadata": {},
   "outputs": [],
   "source": [
    "val_json = json.load(open('validation.json'))"
   ]
  },
  {
   "cell_type": "code",
   "execution_count": 233,
   "metadata": {},
   "outputs": [],
   "source": [
    "y_test = []\n",
    "for i in range(1,501):\n",
    "    labels = val_json['annotations'][i]['labelId']\n",
    "    labels = np.array(list(map(int,labels)))\n",
    "    y_test.append(labels)\n",
    "y_test = np.array(y_test)\n",
    "\n",
    "#pad labels with zeros\n",
    "y_test_pad = []\n",
    "for i in y_test:\n",
    "    num_zeros = 16 - len(i)\n",
    "    zeros = [0] * num_zeros\n",
    "    zeros = np.array(zeros)\n",
    "    new = np.append(i,zeros)\n",
    "    y_test_pad.append(new)\n",
    "y_test_pad = np.array(y_test_pad)"
   ]
  },
  {
   "cell_type": "markdown",
   "metadata": {},
   "source": [
    "# KNN"
   ]
  },
  {
   "cell_type": "code",
   "execution_count": 234,
   "metadata": {},
   "outputs": [],
   "source": [
    "knn = KNeighborsClassifier()\n",
    "knn.fit(X_train_flat,y_train_pad)\n",
    "pred = knn.predict(X_test_flat)"
   ]
  },
  {
   "cell_type": "code",
   "execution_count": 238,
   "metadata": {},
   "outputs": [
    {
     "data": {
      "text/plain": [
       "array([ 52, 106, 153,   0,   0,   0,   0,   0,   0,   0,   0,   0,   0,\n",
       "         0,   0,   0])"
      ]
     },
     "execution_count": 238,
     "metadata": {},
     "output_type": "execute_result"
    }
   ],
   "source": [
    "pred[0]"
   ]
  },
  {
   "cell_type": "code",
   "execution_count": 239,
   "metadata": {},
   "outputs": [
    {
     "data": {
      "text/plain": [
       "array([  95.,   17.,   66.,  214.,  164.,  137.,   20.,  204.,  184.,\n",
       "          0.,    0.,    0.,    0.,    0.,    0.,    0.])"
      ]
     },
     "execution_count": 239,
     "metadata": {},
     "output_type": "execute_result"
    }
   ],
   "source": [
    "y_test_pad[0]"
   ]
  },
  {
   "cell_type": "code",
   "execution_count": 235,
   "metadata": {},
   "outputs": [],
   "source": [
    "#from sklearn.metrics import accuracy_score\n",
    "#acc = accuracy_score(y_test_pad, pred)"
   ]
  },
  {
   "cell_type": "code",
   "execution_count": 236,
   "metadata": {
    "scrolled": true
   },
   "outputs": [
    {
     "data": {
      "text/plain": [
       "0.45700000000000002"
      ]
     },
     "execution_count": 236,
     "metadata": {},
     "output_type": "execute_result"
    }
   ],
   "source": [
    "#Hamming loss https://stackoverflow.com/questions/38697982/python-scikit-learn-multi-class-multi-label-performance-metrics\n",
    "acc = np.sum(np.not_equal(y_test_pad, pred))/float(y_test_pad.size)\n",
    "acc\n"
   ]
  }
 ],
 "metadata": {
  "kernelspec": {
   "display_name": "Python 3",
   "language": "python",
   "name": "python3"
  },
  "language_info": {
   "codemirror_mode": {
    "name": "ipython",
    "version": 3
   },
   "file_extension": ".py",
   "mimetype": "text/x-python",
   "name": "python",
   "nbconvert_exporter": "python",
   "pygments_lexer": "ipython3",
   "version": "3.6.3"
  }
 },
 "nbformat": 4,
 "nbformat_minor": 2
}
